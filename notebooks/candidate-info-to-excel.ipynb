{
 "cells": [
  {
   "cell_type": "markdown",
   "id": "81fffd2b",
   "metadata": {},
   "source": [
    "## Code to take list of election candidates and create excel file from this"
   ]
  },
  {
   "cell_type": "code",
   "execution_count": 1,
   "id": "f89f51c1",
   "metadata": {},
   "outputs": [],
   "source": [
    "# Import needed libraries\n",
    "import pandas as pd\n",
    "from tabula import read_pdf"
   ]
  },
  {
   "cell_type": "code",
   "execution_count": 2,
   "id": "476eae31",
   "metadata": {},
   "outputs": [],
   "source": [
    "# Create a list of dataframes for each page\n",
    "df = read_pdf('../data/raw/candidate-information/primarycandidatelist2022.pdf',\n",
    "              pages='all')"
   ]
  },
  {
   "cell_type": "code",
   "execution_count": 3,
   "id": "a6aabf95",
   "metadata": {},
   "outputs": [],
   "source": [
    "for n in range(0, len(df)):\n",
    "    \n",
    "    if n==0:\n",
    "        df_all = df[n]\n",
    "        \n",
    "    else:\n",
    "        df_all = pd.concat([df_all, df[n]],\n",
    "                                   ignore_index=True)"
   ]
  },
  {
   "cell_type": "code",
   "execution_count": 4,
   "id": "2fe488da",
   "metadata": {},
   "outputs": [],
   "source": [
    "# Fill in all the race names\n",
    "office_col = 'For the Office Of...'\n",
    "df_all[office_col] = df_all[office_col].fillna(method\n",
    "                                                            ='ffill')"
   ]
  },
  {
   "cell_type": "code",
   "execution_count": 5,
   "id": "8cf401a0",
   "metadata": {},
   "outputs": [],
   "source": [
    "# Fix issue with unnamed columns\n",
    "df_all['Address'] = df_all['Address'].fillna(df_all['Unnamed: 0'])\n",
    "df_all['Phone'] = df_all['Phone'].fillna(df_all['Unnamed: 1'])\n",
    "df_all['Email'] = df_all['Email'].fillna(df_all['Unnamed: 2'])\n",
    "df_all['Filing Date'] = df_all['Filing Date'].fillna(df_all['Unnamed: 3'])"
   ]
  },
  {
   "cell_type": "code",
   "execution_count": 6,
   "id": "bd4dc35d",
   "metadata": {},
   "outputs": [],
   "source": [
    "# Remove unanamed columns\n",
    "df_all = df_all.drop(['Unnamed: 0',\n",
    "                      'Unnamed: 1',\n",
    "                      'Unnamed: 2',\n",
    "                      'Unnamed: 3'], axis=1)\n",
    "\n",
    "# Drop address and filing date\n",
    "df_all = df_all.drop(['Address', 'Filing Date'], axis=1)\n",
    "\n",
    "# Remove blank/filler lines\n",
    "df_all = df_all.dropna(axis=0, subset=['Ballot Name(s)'])\n",
    "\n",
    "# Get only races with a candidate\n",
    "df_all = df_all.loc[df_all['Ballot Name(s)'] != 'No Candidate']"
   ]
  },
  {
   "cell_type": "code",
   "execution_count": 7,
   "id": "f61a1ab1",
   "metadata": {},
   "outputs": [],
   "source": [
    "# Reorder the columns\n",
    "df_all = df_all.reindex([office_col,\n",
    "                                         'Ballot Name(s)',\n",
    "                                         'Party',\n",
    "                                         'Email',\n",
    "                                         'Phone'], axis=1)"
   ]
  },
  {
   "cell_type": "code",
   "execution_count": 8,
   "id": "493f1a78",
   "metadata": {},
   "outputs": [],
   "source": [
    "# Remove races we are not asking\n",
    "df_all = df_all[df_all[office_col].str\n",
    "                                .contains('Auditor of State') == False]\n",
    "df_all = df_all[df_all[office_col].str\n",
    "                            .contains('Treasurer of State') == False]\n",
    "df_all = df_all[df_all[office_col].str\n",
    "                                .contains('Attorney General') == False]"
   ]
  },
  {
   "cell_type": "code",
   "execution_count": 9,
   "id": "bf8f0ec5",
   "metadata": {},
   "outputs": [],
   "source": [
    "# Figure out which races are contested\n",
    "df_all['Contested'] = 'yes'\n",
    "\n",
    "# Loop through each unique offices\n",
    "for office in df_all[office_col].unique():\n",
    "    \n",
    "    df_office = df_all[df_all[office_col] == office]\n",
    "    \n",
    "    # Check number in each party running\n",
    "    num_running = df_office.pivot_table(columns=['Party'],\n",
    "                                        aggfunc='size')\n",
    "    \n",
    "    # Loop through each party and specify if it is contested\n",
    "    #...obviously this is only for primary\n",
    "    for party in num_running.index:\n",
    "        \n",
    "        if num_running[party] < 2:\n",
    "            df_all['Contested'][(df_all[office_col] == office)\n",
    "                                & (df_all['Party'] == party)] = 'no'"
   ]
  },
  {
   "cell_type": "code",
   "execution_count": 10,
   "id": "a6667034",
   "metadata": {},
   "outputs": [],
   "source": [
    "# Split into contested and uncontested\n",
    "df_contested = df_all[df_all['Contested'] == 'yes']\n",
    "df_uncontested = df_all[df_all['Contested'] == 'no']"
   ]
  },
  {
   "cell_type": "code",
   "execution_count": 58,
   "id": "3bd77944",
   "metadata": {},
   "outputs": [],
   "source": [
    "# Write lists to different excel sheets\n",
    "with pd.ExcelWriter('iowa-candidates-primary-2022.xlsx') as writer:\n",
    "\n",
    "    df_contested.to_excel(writer, sheet_name='contested',\n",
    "                          index=False)\n",
    "    df_uncontested.to_excel(writer, sheet_name='uncontested',\n",
    "                            index=False)"
   ]
  },
  {
   "cell_type": "code",
   "execution_count": null,
   "id": "2329667c",
   "metadata": {},
   "outputs": [],
   "source": []
  }
 ],
 "metadata": {
  "kernelspec": {
   "display_name": "Python 3 (ipykernel)",
   "language": "python",
   "name": "python3"
  },
  "language_info": {
   "codemirror_mode": {
    "name": "ipython",
    "version": 3
   },
   "file_extension": ".py",
   "mimetype": "text/x-python",
   "name": "python",
   "nbconvert_exporter": "python",
   "pygments_lexer": "ipython3",
   "version": "3.9.2"
  }
 },
 "nbformat": 4,
 "nbformat_minor": 5
}
