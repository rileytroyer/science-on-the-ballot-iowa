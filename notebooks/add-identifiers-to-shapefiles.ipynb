{
 "cells": [
  {
   "cell_type": "markdown",
   "id": "4fd88092",
   "metadata": {},
   "source": [
    "## Script to add race specific identifier to congressional district shapefile\n",
    "\n",
    "written by Riley Troyer Spring 2022"
   ]
  },
  {
   "cell_type": "code",
   "execution_count": 1,
   "id": "4ece92e4",
   "metadata": {},
   "outputs": [],
   "source": [
    "# Define directories\n",
    "map_dir = '../data/raw/map-files/'"
   ]
  },
  {
   "cell_type": "code",
   "execution_count": 2,
   "id": "2b7570f7",
   "metadata": {},
   "outputs": [],
   "source": [
    "# Import libraries\n",
    "import geopandas as gpd\n",
    "import json\n",
    "import pandas as pd"
   ]
  },
  {
   "cell_type": "code",
   "execution_count": 3,
   "id": "5aaad713",
   "metadata": {},
   "outputs": [],
   "source": [
    "# Read in spatial file\n",
    "state_rep_gdf = gpd.read_file(map_dir + 'Plan2_House.shp')\n",
    "state_sen_gdf = gpd.read_file(map_dir + 'Plan2_Senate.shp')\n",
    "us_rep_gdf = gpd.read_file(map_dir + 'Plan2_Congress.shp')\n",
    "us_sen_gdf = gpd.read_file(map_dir + 'iowa_border.shp')\n",
    "gov_gdf = gpd.read_file(map_dir + 'iowa_border.shp')\n",
    "sec_ag_gdf = gpd.read_file(map_dir + 'iowa_border.shp')\n",
    "sec_state_gdf = gpd.read_file(map_dir + 'iowa_border.shp')\n",
    "\n",
    "# Convert to latitude longitude for iowa border files\n",
    "us_sen_gdf = us_sen_gdf.to_crs('epsg:4326')\n",
    "gov_gdf = gov_gdf.to_crs('epsg:4326')\n",
    "sec_ag_gdf = sec_ag_gdf.to_crs('epsg:4326')\n",
    "sec_state_gdf = sec_state_gdf.to_crs('epsg:4326')"
   ]
  },
  {
   "cell_type": "code",
   "execution_count": 4,
   "id": "5f4cf609",
   "metadata": {},
   "outputs": [],
   "source": [
    "# Write to json files\n",
    "interim_map_dir = '../data/interim/map-files/'\n",
    "state_rep_gdf.to_file(interim_map_dir + 'house.json', driver='GeoJSON')\n",
    "state_sen_gdf.to_file(interim_map_dir + 'senate.json', driver='GeoJSON')\n",
    "us_rep_gdf.to_file(interim_map_dir + 'congress.json', driver='GeoJSON')\n",
    "us_sen_gdf.to_file(interim_map_dir + 'us-senate.json', driver='GeoJSON')\n",
    "gov_gdf.to_file(interim_map_dir + 'gov.json', driver='GeoJSON')\n",
    "sec_ag_gdf.to_file(interim_map_dir + 'sec-ag.json', driver='GeoJSON')\n",
    "sec_state_gdf.to_file(interim_map_dir + 'sec-state.json', driver='GeoJSON')"
   ]
  },
  {
   "cell_type": "code",
   "execution_count": 5,
   "id": "4fee66a7",
   "metadata": {},
   "outputs": [],
   "source": [
    "# Read in json file for house senate and congress, these have identifiable names\n",
    "processed_map_dir = '../data/processed/map-files/'\n",
    "for filename in ['house.json', 'senate.json', 'congress.json']:\n",
    "    \n",
    "    with open(interim_map_dir + filename) as geofile:\n",
    "        j_file = json.load(geofile)\n",
    "        \n",
    "    # Create an id field\n",
    "    for feature in j_file['features']:\n",
    "        feature['id'] = feature['properties']['NAME']\n",
    "\n",
    "    # Write to new json file\n",
    "    with open(processed_map_dir + filename, 'w') as f:\n",
    "        json.dump(j_file, f)"
   ]
  },
  {
   "cell_type": "code",
   "execution_count": 7,
   "id": "c946f1a2",
   "metadata": {},
   "outputs": [],
   "source": [
    "# US senate, gov, sec of ag, and sec of state need ID to be set manually\n",
    "filename = 'us-senate.json'\n",
    "with open(interim_map_dir + filename) as geofile:\n",
    "    j_file = json.load(geofile)\n",
    "\n",
    "# Create an id field\n",
    "for feature in j_file['features']:\n",
    "    feature['id'] = 'United States Senator'\n",
    "\n",
    "# Write to new json file\n",
    "with open(processed_map_dir + filename, 'w') as f:\n",
    "    json.dump(j_file, f)\n",
    "    \n",
    "# Governor\n",
    "filename = 'gov.json'\n",
    "with open(interim_map_dir + filename) as geofile:\n",
    "    j_file = json.load(geofile)\n",
    "\n",
    "# Create an id field\n",
    "for feature in j_file['features']:\n",
    "    feature['id'] = 'Governor'\n",
    "\n",
    "# Write to new json file\n",
    "with open(processed_map_dir + filename, 'w') as f:\n",
    "    json.dump(j_file, f)    \n",
    "    \n",
    "\n",
    "# Sec of Ag\n",
    "filename = 'sec-ag.json'\n",
    "with open(interim_map_dir + filename) as geofile:\n",
    "    j_file = json.load(geofile)\n",
    "\n",
    "# Create an id field\n",
    "for feature in j_file['features']:\n",
    "    feature['id'] = 'Secretary of Agriculture and Land Stewardship'\n",
    "\n",
    "# Write to new json file\n",
    "with open(processed_map_dir + filename, 'w') as f:\n",
    "    json.dump(j_file, f)\n",
    "    \n",
    "    \n",
    "# Sec of State\n",
    "filename = 'sec-state.json'\n",
    "with open(interim_map_dir + filename) as geofile:\n",
    "    j_file = json.load(geofile)\n",
    "\n",
    "# Create an id field\n",
    "for feature in j_file['features']:\n",
    "    feature['id'] = 'Secretary of State'\n",
    "\n",
    "# Write to new json file\n",
    "with open(processed_map_dir + filename, 'w') as f:\n",
    "    json.dump(j_file, f)"
   ]
  }
 ],
 "metadata": {
  "kernelspec": {
   "display_name": "Python 3 (ipykernel)",
   "language": "python",
   "name": "python3"
  },
  "language_info": {
   "codemirror_mode": {
    "name": "ipython",
    "version": 3
   },
   "file_extension": ".py",
   "mimetype": "text/x-python",
   "name": "python",
   "nbconvert_exporter": "python",
   "pygments_lexer": "ipython3",
   "version": "3.9.2"
  }
 },
 "nbformat": 4,
 "nbformat_minor": 5
}
